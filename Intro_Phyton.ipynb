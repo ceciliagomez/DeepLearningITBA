{
  "nbformat": 4,
  "nbformat_minor": 0,
  "metadata": {
    "colab": {
      "name": "Intro_Phyton.ipynb",
      "provenance": [],
      "toc_visible": true,
      "authorship_tag": "ABX9TyNTlZsCu37z69pmLXUyCc8b",
      "include_colab_link": true
    },
    "kernelspec": {
      "name": "python3",
      "display_name": "Python 3"
    }
  },
  "cells": [
    {
      "cell_type": "markdown",
      "metadata": {
        "id": "view-in-github",
        "colab_type": "text"
      },
      "source": [
        "<a href=\"https://colab.research.google.com/github/ceciliagomez/DeepLearningITBA/blob/master/Intro_Phyton.ipynb\" target=\"_parent\"><img src=\"https://colab.research.google.com/assets/colab-badge.svg\" alt=\"Open In Colab\"/></a>"
      ]
    },
    {
      "cell_type": "markdown",
      "metadata": {
        "id": "LBgrTULTw9QS",
        "colab_type": "text"
      },
      "source": [
        "#**Listas** en Phyton"
      ]
    },
    {
      "cell_type": "code",
      "metadata": {
        "id": "llPgYEnQ633c",
        "colab_type": "code",
        "colab": {
          "base_uri": "https://localhost:8080/",
          "height": 35
        },
        "outputId": "dcba4e8b-3a4d-44a3-e044-35499ee96fdf"
      },
      "source": [
        "X = 2.1\n",
        "X1='Juan'\n",
        "X2='Gladis'\n",
        "X1+X2\n",
        "Y= float(1.1)\n",
        "z=2\n",
        "X4='Juan'\n",
        "X5=str(2)\n",
        "X4+X5"
      ],
      "execution_count": null,
      "outputs": [
        {
          "output_type": "execute_result",
          "data": {
            "application/vnd.google.colaboratory.intrinsic+json": {
              "type": "string"
            },
            "text/plain": [
              "'Juan2'"
            ]
          },
          "metadata": {
            "tags": []
          },
          "execution_count": 17
        }
      ]
    },
    {
      "cell_type": "markdown",
      "metadata": {
        "id": "dBO4UvvW7b-b",
        "colab_type": "text"
      },
      "source": [
        "Python  no necesita la declaración del tipo de variable\n",
        "La suma de string concatena\n",
        "puedo castear valores \n"
      ]
    },
    {
      "cell_type": "code",
      "metadata": {
        "id": "OFy58evh7Hzt",
        "colab_type": "code",
        "colab": {
          "base_uri": "https://localhost:8080/",
          "height": 34
        },
        "outputId": "eec90ceb-ad32-448e-ea8d-b103078cbbef"
      },
      "source": [
        "type(X)\n"
      ],
      "execution_count": null,
      "outputs": [
        {
          "output_type": "execute_result",
          "data": {
            "text/plain": [
              "float"
            ]
          },
          "metadata": {
            "tags": []
          },
          "execution_count": 14
        }
      ]
    },
    {
      "cell_type": "code",
      "metadata": {
        "id": "pXWq1ZJC9CxJ",
        "colab_type": "code",
        "colab": {
          "base_uri": "https://localhost:8080/",
          "height": 129
        },
        "outputId": "862eb1e7-1c15-4373-e72f-1f9e22c7a942"
      },
      "source": [
        "X1='Juan'\n",
        "X2=24\n",
        "print(f{X1} tiene {X2})"
      ],
      "execution_count": null,
      "outputs": [
        {
          "output_type": "error",
          "ename": "SyntaxError",
          "evalue": "ignored",
          "traceback": [
            "\u001b[0;36m  File \u001b[0;32m\"<ipython-input-19-d3ed99414ec8>\"\u001b[0;36m, line \u001b[0;32m3\u001b[0m\n\u001b[0;31m    print(f{X1} tiene {X2})\u001b[0m\n\u001b[0m           ^\u001b[0m\n\u001b[0;31mSyntaxError\u001b[0m\u001b[0;31m:\u001b[0m invalid syntax\n"
          ]
        }
      ]
    },
    {
      "cell_type": "code",
      "metadata": {
        "id": "YK1F5hZN9g9_",
        "colab_type": "code",
        "colab": {}
      },
      "source": [
        "lista_1= [1, 'Juan' , 18, 8.2]\n",
        "lista_2= [1, 'mariana' , 18, 8.2]"
      ],
      "execution_count": 2,
      "outputs": []
    },
    {
      "cell_type": "code",
      "metadata": {
        "id": "OMHpaeWh9wFo",
        "colab_type": "code",
        "colab": {}
      },
      "source": [
        "lista_2[3]\n",
        "lista_3 = lista_1 + lista_2"
      ],
      "execution_count": null,
      "outputs": []
    },
    {
      "cell_type": "code",
      "metadata": {
        "id": "49H-csUm-J7k",
        "colab_type": "code",
        "colab": {
          "base_uri": "https://localhost:8080/",
          "height": 34
        },
        "outputId": "706a3b75-c45c-4506-a7e3-bc553983d0ca"
      },
      "source": [
        "lista_3\n"
      ],
      "execution_count": null,
      "outputs": [
        {
          "output_type": "execute_result",
          "data": {
            "text/plain": [
              "[1, 'Juan', 18, 8.2, 1, 'Juan', 18, 8.2]"
            ]
          },
          "metadata": {
            "tags": []
          },
          "execution_count": 28
        }
      ]
    },
    {
      "cell_type": "code",
      "metadata": {
        "id": "Y2_4LHRC-OF2",
        "colab_type": "code",
        "colab": {
          "base_uri": "https://localhost:8080/",
          "height": 34
        },
        "outputId": "87d19ced-cc0c-4f1d-aa47-5ac732e7068b"
      },
      "source": [
        "lista_3[1:3]"
      ],
      "execution_count": null,
      "outputs": [
        {
          "output_type": "execute_result",
          "data": {
            "text/plain": [
              "['Juan', 18]"
            ]
          },
          "metadata": {
            "tags": []
          },
          "execution_count": 29
        }
      ]
    },
    {
      "cell_type": "markdown",
      "metadata": {
        "id": "7KjQZgM0-aZN",
        "colab_type": "text"
      },
      "source": [
        "el hasta el hasta n-1"
      ]
    },
    {
      "cell_type": "code",
      "metadata": {
        "id": "6f4V7wSK-WkW",
        "colab_type": "code",
        "colab": {
          "base_uri": "https://localhost:8080/",
          "height": 34
        },
        "outputId": "106b7699-4054-4f62-a5db-874ead4c6459"
      },
      "source": [
        "lista_3[1:4]"
      ],
      "execution_count": null,
      "outputs": [
        {
          "output_type": "execute_result",
          "data": {
            "text/plain": [
              "['Juan', 18, 8.2]"
            ]
          },
          "metadata": {
            "tags": []
          },
          "execution_count": 30
        }
      ]
    },
    {
      "cell_type": "code",
      "metadata": {
        "id": "cKUuHfYL-ebz",
        "colab_type": "code",
        "colab": {
          "base_uri": "https://localhost:8080/",
          "height": 34
        },
        "outputId": "eedb67aa-983e-406c-a7b7-7106d234364d"
      },
      "source": [
        "lista_3[::-1]"
      ],
      "execution_count": null,
      "outputs": [
        {
          "output_type": "execute_result",
          "data": {
            "text/plain": [
              "[8.2, 18, 'Juan', 1, 8.2, 18, 'Juan', 1]"
            ]
          },
          "metadata": {
            "tags": []
          },
          "execution_count": 31
        }
      ]
    },
    {
      "cell_type": "code",
      "metadata": {
        "id": "grRIo79m-v0n",
        "colab_type": "code",
        "colab": {
          "base_uri": "https://localhost:8080/",
          "height": 34
        },
        "outputId": "b409c83e-5400-4bc3-f508-3bdf94dd2e62"
      },
      "source": [
        "lista_3[::2]"
      ],
      "execution_count": null,
      "outputs": [
        {
          "output_type": "execute_result",
          "data": {
            "text/plain": [
              "[1, 18, 1, 18]"
            ]
          },
          "metadata": {
            "tags": []
          },
          "execution_count": 32
        }
      ]
    },
    {
      "cell_type": "code",
      "metadata": {
        "id": "ZoxGpILw-xk6",
        "colab_type": "code",
        "colab": {
          "base_uri": "https://localhost:8080/",
          "height": 130
        },
        "outputId": "8e97d3ac-78cf-4c7d-9b01-377990507551"
      },
      "source": [
        "array_2 = np.array{[1,2,3,4]}"
      ],
      "execution_count": null,
      "outputs": [
        {
          "output_type": "error",
          "ename": "SyntaxError",
          "evalue": "ignored",
          "traceback": [
            "\u001b[0;36m  File \u001b[0;32m\"<ipython-input-1-7399d80a7cae>\"\u001b[0;36m, line \u001b[0;32m1\u001b[0m\n\u001b[0;31m    array_2 = np.array{[1,2,3,4]}\u001b[0m\n\u001b[0m                      ^\u001b[0m\n\u001b[0;31mSyntaxError\u001b[0m\u001b[0;31m:\u001b[0m invalid syntax\n"
          ]
        }
      ]
    },
    {
      "cell_type": "code",
      "metadata": {
        "id": "lxyYHULppGYn",
        "colab_type": "code",
        "colab": {}
      },
      "source": [
        "lista_4= lista_2*3"
      ],
      "execution_count": 3,
      "outputs": []
    },
    {
      "cell_type": "code",
      "metadata": {
        "id": "WqH4lx2dpLTQ",
        "colab_type": "code",
        "colab": {
          "base_uri": "https://localhost:8080/",
          "height": 34
        },
        "outputId": "02c9ffc8-7fad-4f2c-ec0e-2be0b5c58199"
      },
      "source": [
        "print(lista_4)"
      ],
      "execution_count": 5,
      "outputs": [
        {
          "output_type": "stream",
          "text": [
            "[1, 'mariana', 18, 8.2, 1, 'mariana', 18, 8.2, 1, 'mariana', 18, 8.2]\n"
          ],
          "name": "stdout"
        }
      ]
    },
    {
      "cell_type": "code",
      "metadata": {
        "id": "SjrzQElxpU_F",
        "colab_type": "code",
        "colab": {}
      },
      "source": [
        "lista_3 = [1,2,3]\n",
        "lista_5 = lista_3 * 3"
      ],
      "execution_count": 6,
      "outputs": []
    },
    {
      "cell_type": "code",
      "metadata": {
        "id": "x4gZSIGup7tT",
        "colab_type": "code",
        "colab": {
          "base_uri": "https://localhost:8080/",
          "height": 34
        },
        "outputId": "b59433e3-5705-433d-b843-0c7871cb9607"
      },
      "source": [
        "print(lista_5)"
      ],
      "execution_count": 7,
      "outputs": [
        {
          "output_type": "stream",
          "text": [
            "[1, 2, 3, 1, 2, 3, 1, 2, 3]\n"
          ],
          "name": "stdout"
        }
      ]
    },
    {
      "cell_type": "code",
      "metadata": {
        "id": "t44G0fMPsAdc",
        "colab_type": "code",
        "colab": {
          "base_uri": "https://localhost:8080/",
          "height": 34
        },
        "outputId": "0ac70575-16df-4500-b5bc-f39a05958a64"
      },
      "source": [
        "del lista_5[0] \n",
        "print(lista_5)"
      ],
      "execution_count": 11,
      "outputs": [
        {
          "output_type": "stream",
          "text": [
            "[2, 3, 1, 2, 3, 1, 2, 3]\n"
          ],
          "name": "stdout"
        }
      ]
    },
    {
      "cell_type": "code",
      "metadata": {
        "id": "I5I7QYEysnVQ",
        "colab_type": "code",
        "colab": {
          "base_uri": "https://localhost:8080/",
          "height": 34
        },
        "outputId": "772cd4e4-4810-4146-dddb-96b7f6b4ceac"
      },
      "source": [
        "c = [3,2,6]\n",
        "\n",
        "b = c[:]\n",
        "\n",
        "b[1] = 7\n",
        "\n",
        "print(c[1])"
      ],
      "execution_count": 12,
      "outputs": [
        {
          "output_type": "stream",
          "text": [
            "2\n"
          ],
          "name": "stdout"
        }
      ]
    },
    {
      "cell_type": "code",
      "metadata": {
        "id": "0O094XZ6vNQH",
        "colab_type": "code",
        "colab": {
          "base_uri": "https://localhost:8080/",
          "height": 34
        },
        "outputId": "7d410c8b-0d7a-465b-bb97-39d7ef64fa38"
      },
      "source": [
        "diccionario = {'nombre' : 'Carlos', 'edad' : 22, 'cursos': ['Python','Django','JavaScript'] }\n",
        "diccionario.items()"
      ],
      "execution_count": 13,
      "outputs": [
        {
          "output_type": "execute_result",
          "data": {
            "text/plain": [
              "dict_items([('nombre', 'Carlos'), ('edad', 22), ('cursos', ['Python', 'Django', 'JavaScript'])])"
            ]
          },
          "metadata": {
            "tags": []
          },
          "execution_count": 13
        }
      ]
    },
    {
      "cell_type": "code",
      "metadata": {
        "id": "a-xTqFb2vYm2",
        "colab_type": "code",
        "colab": {
          "base_uri": "https://localhost:8080/",
          "height": 34
        },
        "outputId": "2ccc3a2f-8715-44d7-c42d-81c10433d718"
      },
      "source": [
        "d = {'bill':6,'gates':9,6:2, 9:2.5, 2:0.5, 3:0}\n",
        "b= d[d[d[d['bill']]]+d[d['gates']]]\n",
        "d.items()\n",
        "print(b)"
      ],
      "execution_count": 15,
      "outputs": [
        {
          "output_type": "stream",
          "text": [
            "0\n"
          ],
          "name": "stdout"
        }
      ]
    },
    {
      "cell_type": "code",
      "metadata": {
        "id": "jbDVp8-SwPlH",
        "colab_type": "code",
        "colab": {
          "base_uri": "https://localhost:8080/",
          "height": 34
        },
        "outputId": "62bf6570-00b8-4d94-f278-37b243df235b"
      },
      "source": [
        "c= d['bill']\n",
        "print(c)"
      ],
      "execution_count": 16,
      "outputs": [
        {
          "output_type": "stream",
          "text": [
            "6\n"
          ],
          "name": "stdout"
        }
      ]
    },
    {
      "cell_type": "code",
      "metadata": {
        "id": "RhlXDeQv1rEE",
        "colab_type": "code",
        "colab": {
          "base_uri": "https://localhost:8080/",
          "height": 34
        },
        "outputId": "b4c7a77c-8a57-421b-d806-e38dfecf17fd"
      },
      "source": [
        "c=d[d['bill']]\n",
        "print(c)"
      ],
      "execution_count": 17,
      "outputs": [
        {
          "output_type": "stream",
          "text": [
            "2\n"
          ],
          "name": "stdout"
        }
      ]
    },
    {
      "cell_type": "code",
      "metadata": {
        "id": "c4t-NOZH1zTa",
        "colab_type": "code",
        "colab": {
          "base_uri": "https://localhost:8080/",
          "height": 34
        },
        "outputId": "f0304062-3749-45d0-9cf8-90321c6f4b64"
      },
      "source": [
        "x = ['a','b',{'foo': 1,'bar':{'x' : 10,'y' : 20,'z' : 30},'baz': 3},'c','d']\n",
        "c= x[2]['bar']['z']\n",
        "print(c)"
      ],
      "execution_count": 8,
      "outputs": [
        {
          "output_type": "stream",
          "text": [
            "30\n"
          ],
          "name": "stdout"
        }
      ]
    },
    {
      "cell_type": "code",
      "metadata": {
        "id": "M8Rg5uAj30c9",
        "colab_type": "code",
        "colab": {}
      },
      "source": [
        ""
      ],
      "execution_count": null,
      "outputs": []
    }
  ]
}