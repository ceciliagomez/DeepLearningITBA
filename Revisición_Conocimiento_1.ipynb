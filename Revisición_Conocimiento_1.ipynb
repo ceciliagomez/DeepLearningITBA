{
  "nbformat": 4,
  "nbformat_minor": 0,
  "metadata": {
    "colab": {
      "name": "Revisición_Conocimiento_1.ipynb",
      "provenance": [],
      "mount_file_id": "1U5s8ExAjPJKVGkyEB2wsulEn1dJRZ0OK",
      "authorship_tag": "ABX9TyNqTSUKAhlNkZ4TlPOxH+Cn",
      "include_colab_link": true
    },
    "kernelspec": {
      "name": "python3",
      "display_name": "Python 3"
    }
  },
  "cells": [
    {
      "cell_type": "markdown",
      "metadata": {
        "id": "view-in-github",
        "colab_type": "text"
      },
      "source": [
        "<a href=\"https://colab.research.google.com/github/ceciliagomez/DeepLearningITBA/blob/master/Revisici%C3%B3n_Conocimiento_1.ipynb\" target=\"_parent\"><img src=\"https://colab.research.google.com/assets/colab-badge.svg\" alt=\"Open In Colab\"/></a>"
      ]
    },
    {
      "cell_type": "code",
      "metadata": {
        "id": "NY4Hq3oHUkxf",
        "colab_type": "code",
        "colab": {
          "base_uri": "https://localhost:8080/",
          "height": 34
        },
        "outputId": "1cf1df05-e811-407c-d95c-2335c67abb33"
      },
      "source": [
        "import numpy as np\n",
        "arr_1 =  np.array([1,2,3,4])\n",
        "arr_2 = arr_1[:3]\n",
        "arr_2[0]=10\n",
        "list_1 = [1,2,3,4]\n",
        "list_2 =  list_1[:3]\n",
        "list_2[0]=10\n",
        "print(list_1, arr_1)"
      ],
      "execution_count": 2,
      "outputs": [
        {
          "output_type": "stream",
          "text": [
            "[1, 2, 3, 4] [10  2  3  4]\n"
          ],
          "name": "stdout"
        }
      ]
    },
    {
      "cell_type": "code",
      "metadata": {
        "id": "_FN3h_fka2xH",
        "colab_type": "code",
        "colab": {
          "base_uri": "https://localhost:8080/",
          "height": 34
        },
        "outputId": "8a1f0036-f939-42d0-81f3-a1d70fdd59d7"
      },
      "source": [
        "  arr_1 = np.array([10,  2,  8,  7,  6,  5])\n",
        "  print(np.argsort(arr_1))"
      ],
      "execution_count": 11,
      "outputs": [
        {
          "output_type": "stream",
          "text": [
            "[1 5 4 3 2 0]\n"
          ],
          "name": "stdout"
        }
      ]
    },
    {
      "cell_type": "code",
      "metadata": {
        "id": "UCn0ozCdcamA",
        "colab_type": "code",
        "colab": {
          "base_uri": "https://localhost:8080/",
          "height": 34
        },
        "outputId": "8d2ce8ab-ba54-41f9-e06d-4f58923f0111"
      },
      "source": [
        "arr_1 = np.array([10,  2,  8,  7,  6,  5,  4,  1,  9,  3])\n",
        "list_1 = [0, 3, 5, -2]\n",
        "print(arr_1[list_1])"
      ],
      "execution_count": 12,
      "outputs": [
        {
          "output_type": "stream",
          "text": [
            "[10  7  5  9]\n"
          ],
          "name": "stdout"
        }
      ]
    },
    {
      "cell_type": "code",
      "metadata": {
        "id": "LNk9aLqOhg36",
        "colab_type": "code",
        "colab": {
          "base_uri": "https://localhost:8080/",
          "height": 34
        },
        "outputId": "2c24f8ad-749a-4fcd-db1e-92605f905a31"
      },
      "source": [
        "  arr_1 = np.array([10,  2,  8,  7,  6,  5,  4,  1,  9,  3])\n",
        "  arr_sorted_1 = arr_1.sort()\n",
        "  arr_sorted_2 = np.sort(arr_1)\n",
        "  print(arr_1, arr_sorted_1, arr_sorted_2)"
      ],
      "execution_count": 3,
      "outputs": [
        {
          "output_type": "stream",
          "text": [
            "[ 1  2  3  4  5  6  7  8  9 10] None [ 1  2  3  4  5  6  7  8  9 10]\n"
          ],
          "name": "stdout"
        }
      ]
    },
    {
      "cell_type": "code",
      "metadata": {
        "id": "sRkv46DCJXIT",
        "colab_type": "code",
        "colab": {
          "base_uri": "https://localhost:8080/",
          "height": 187
        },
        "outputId": "0807d45d-ae37-4a28-e32d-3448718818a5"
      },
      "source": [
        "pesos_alturas = np.loadtxt(\"alturas-pesos.csv\", dtype=str, delimiter=',')\n",
        "print(pesos_alturas[:10])\n"
      ],
      "execution_count": 27,
      "outputs": [
        {
          "output_type": "stream",
          "text": [
            "[['' 'Genero' 'Peso' 'Altura']\n",
            " ['7620' 'Mujer' '61.235' '162.40200000000004']\n",
            " ['1837' 'Hombre' '97.432' '181.908']\n",
            " ['3311' 'Hombre' '73.324' '172.459']\n",
            " ['9478' 'Mujer' '55.19300000000001' '157.748']\n",
            " ['7805' 'Mujer' '56.886' '151.798']\n",
            " ['6737' 'Mujer' '59.834' '158.623']\n",
            " ['4413' 'Hombre' '77.618' '172.705']\n",
            " ['6018' 'Mujer' '68.889' '169.225']\n",
            " ['5165' 'Mujer' '53.874' '155.487']]\n"
          ],
          "name": "stdout"
        }
      ]
    },
    {
      "cell_type": "code",
      "metadata": {
        "id": "sjhoYv5QVX2w",
        "colab_type": "code",
        "colab": {
          "base_uri": "https://localhost:8080/",
          "height": 34
        },
        "outputId": "585704cc-9f77-4c75-a1fe-4068acf858f8"
      },
      "source": [
        "pesos_alturas.shape"
      ],
      "execution_count": 28,
      "outputs": [
        {
          "output_type": "execute_result",
          "data": {
            "text/plain": [
              "(8001, 4)"
            ]
          },
          "metadata": {
            "tags": []
          },
          "execution_count": 28
        }
      ]
    },
    {
      "cell_type": "code",
      "metadata": {
        "id": "b8iTc8HfV4DW",
        "colab_type": "code",
        "colab": {
          "base_uri": "https://localhost:8080/",
          "height": 34
        },
        "outputId": "d30f8584-b0d7-4e4e-bf23-cbf1a85afa94"
      },
      "source": [
        "pesos_alturas.dtype"
      ],
      "execution_count": 30,
      "outputs": [
        {
          "output_type": "execute_result",
          "data": {
            "text/plain": [
              "dtype('<U18')"
            ]
          },
          "metadata": {
            "tags": []
          },
          "execution_count": 30
        }
      ]
    },
    {
      "cell_type": "code",
      "metadata": {
        "id": "2sVq5jabX2PL",
        "colab_type": "code",
        "colab": {
          "base_uri": "https://localhost:8080/",
          "height": 34
        },
        "outputId": "c6120209-f176-4fdb-f0dc-5e73ea0ca16d"
      },
      "source": [
        "pesos_alturas[1].dtype"
      ],
      "execution_count": 31,
      "outputs": [
        {
          "output_type": "execute_result",
          "data": {
            "text/plain": [
              "dtype('<U18')"
            ]
          },
          "metadata": {
            "tags": []
          },
          "execution_count": 31
        }
      ]
    }
  ]
}